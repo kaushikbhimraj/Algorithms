{
 "cells": [
  {
   "cell_type": "code",
   "execution_count": 10,
   "metadata": {},
   "outputs": [
    {
     "name": "stdout",
     "output_type": "stream",
     "text": [
      "True\n",
      "True\n",
      "False\n",
      "False\n",
      "True\n",
      "False\n"
     ]
    }
   ],
   "source": [
    "\"\"\"\n",
    "Given a string containing just the characters '(', ')', '{', '}', '[' and ']', determine if the input string is valid.\n",
    "\n",
    "An input string is valid if:\n",
    "\n",
    "Open brackets must be closed by the same type of brackets.\n",
    "Open brackets must be closed in the correct order.\n",
    "Note that an empty string is also considered valid.\n",
    "\n",
    "Example 1:\n",
    "\n",
    "Input: \"()\"\n",
    "Output: true\n",
    "Example 2:\n",
    "\n",
    "Input: \"()[]{}\"\n",
    "Output: true\n",
    "Example 3:\n",
    "\n",
    "Input: \"(]\"\n",
    "Output: false\n",
    "Example 4:\n",
    "\n",
    "Input: \"([)]\"\n",
    "Output: false\n",
    "Example 5:\n",
    "\n",
    "Input: \"{[]}\"\n",
    "Output: true\n",
    "\"\"\"\n",
    "\n",
    "class Solution:\n",
    "    def isValid(self, s:str) -> bool:\n",
    "        \n",
    "        # Edge cases\n",
    "        if not s:\n",
    "            return True\n",
    "        if len(s)%2:\n",
    "            return False\n",
    "        \n",
    "        # Core logic\n",
    "        brackets = {\"(\":\")\", \"{\":\"}\", \"[\":\"]\"}\n",
    "        \n",
    "        # 1. {}[]()\n",
    "        # ------------------------------------\n",
    "        if brackets[s[0]] == s[1]:\n",
    "            \n",
    "            i, j = 0, 1\n",
    "            while j < len(s):\n",
    "                if brackets[s[i]] == s[j]:\n",
    "                    i += 2\n",
    "                    j += 2\n",
    "                else:\n",
    "                    return False\n",
    "            return True\n",
    "        \n",
    "        # 2. {[()]}\n",
    "        # ------------------------------------\n",
    "        else:\n",
    "            i, j = 0, len(s) - 1\n",
    "            while i < j:\n",
    "                if brackets[s[i]] == s[j]:\n",
    "                    i += 1\n",
    "                    j -= 1\n",
    "                else:\n",
    "                    return False\n",
    "            return True\n",
    "\n",
    "# Tests\n",
    "x = [\"()\", \"()[]{}\", \"(]\", \"([)]\", \"{[]}\", \"[][9]\"]\n",
    "for i in x:\n",
    "    print(Solution().isValid(i))\n",
    "            \n",
    "        "
   ]
  },
  {
   "cell_type": "code",
   "execution_count": null,
   "metadata": {},
   "outputs": [],
   "source": []
  }
 ],
 "metadata": {
  "kernelspec": {
   "display_name": "Python 3",
   "language": "python",
   "name": "python3"
  },
  "language_info": {
   "codemirror_mode": {
    "name": "ipython",
    "version": 3
   },
   "file_extension": ".py",
   "mimetype": "text/x-python",
   "name": "python",
   "nbconvert_exporter": "python",
   "pygments_lexer": "ipython3",
   "version": "3.6.8"
  }
 },
 "nbformat": 4,
 "nbformat_minor": 2
}
