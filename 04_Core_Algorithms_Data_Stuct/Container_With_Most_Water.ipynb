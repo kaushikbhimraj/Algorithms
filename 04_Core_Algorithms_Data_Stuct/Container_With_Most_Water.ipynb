{
 "cells": [
  {
   "cell_type": "code",
   "execution_count": null,
   "metadata": {},
   "outputs": [],
   "source": [
    "\"\"\"\n",
    "Given n non-negative a1, a2, a3, ...., an numbers, where each represents a point at coordinate \n",
    "(i, ai). n vertical lines are drawn such that the two endpoints of line i is at (i, ai) and (i, 0). \n",
    "Find two lines, which together with x-axis forms a container, such that the container contains the \n",
    "most water. \n",
    "\n",
    "Note: You many not slant the container and n is at least 2\n",
    "\n",
    " EXAMPLE:\n",
    "     Input:  [1,8,6,2,5,4,8,3,7]\n",
    "     Output: 49\n",
    "\"\"\""
   ]
  },
  {
   "cell_type": "code",
   "execution_count": null,
   "metadata": {},
   "outputs": [],
   "source": [
    "# Have to find the max and then "
   ]
  },
  {
   "cell_type": "code",
   "execution_count": null,
   "metadata": {},
   "outputs": [],
   "source": []
  }
 ],
 "metadata": {
  "kernelspec": {
   "display_name": "Python 3",
   "language": "python",
   "name": "python3"
  },
  "language_info": {
   "codemirror_mode": {
    "name": "ipython",
    "version": 3
   },
   "file_extension": ".py",
   "mimetype": "text/x-python",
   "name": "python",
   "nbconvert_exporter": "python",
   "pygments_lexer": "ipython3",
   "version": "3.7.4"
  }
 },
 "nbformat": 4,
 "nbformat_minor": 2
}
