{
 "cells": [
  {
   "cell_type": "code",
   "execution_count": null,
   "metadata": {},
   "outputs": [],
   "source": [
    "\"\"\"\n",
    "Implement atoi which converts a string to an integer. \n",
    "\n",
    "The function first discards as many whitespace characters as necessary until the first non-whiespace\n",
    "character is found. Then, starting from this character, takes an optional initial plus or minus sign followed\n",
    "by as many numerical digits as possible, and inteprets them as a numerical value. \n",
    "\n",
    "The string can contain additional characters after those that form the integral number, which are ignored and\n",
    "have no effect on the behaviour of the function. \n",
    "\n",
    "If the first sequence of non-whitespace characters in str is not a valid integral number, or if no such sequence\n",
    "exists because either str is empty or it contains only whitespace characters, no conversion is performed. \n",
    "\n",
    "If no valid conversion could be performed, a zero value is returned. \n",
    "\n",
    "Note:\n",
    "    Only the space character ' ' is considered as whitespace character. \n",
    "    Assume we are dealing with an environment which could only store integers within the 32-bit signed \n",
    "    integer range of [2^-31, 2^31 - 1]. If the numerical value is out of the range of representable value, \n",
    "    INT_MAX (2^31-1) or INT_MIN(-2^31) is returned. \n",
    "    \n",
    "    \n",
    "\n",
    "EXAMPLE:\n",
    "    Input:  \"42\"\n",
    "    Output:  42\n",
    "    \n",
    "    Input:  \"-42\"\n",
    "    output: -42\n",
    "    \n",
    "    Input:  \"4193 with words\"\n",
    "    Output: 4193\n",
    "    \n",
    "    Input:  \"words and 987\"\n",
    "    Output: 0\n",
    "    Explanation: The first non-whitespace character is 'w', which is not a numerical digit or a +/- sign. \n",
    "    \n",
    "\"\"\""
   ]
  },
  {
   "cell_type": "code",
   "execution_count": 62,
   "metadata": {},
   "outputs": [
    {
     "name": "stdout",
     "output_type": "stream",
     "text": [
      "-42.2812\n"
     ]
    }
   ],
   "source": [
    "class Solution:\n",
    "    def __init__(self):\n",
    "        self.num = {'-':'-', \n",
    "                    '.':'.', \n",
    "                    '0':'0', \n",
    "                    '1':'1', \n",
    "                    '2':'2', \n",
    "                    '3':'3', \n",
    "                    '4':'4', \n",
    "                    '5':'5', \n",
    "                    '6':'6', \n",
    "                    '7':'7', \n",
    "                    '8':'8', \n",
    "                    '9':'9'}\n",
    "        \n",
    "    def myAtoi(self, s:str) -> int:\n",
    "        i = 0\n",
    "        while i < len(s):\n",
    "            if s[i] == \" \":\n",
    "                i += 1\n",
    "            else:\n",
    "                try:\n",
    "                    self.num[s[i]]\n",
    "                except KeyError:\n",
    "                    break\n",
    "                i += 1\n",
    "            \n",
    "        if i <= 1:\n",
    "            return 0\n",
    "        try:\n",
    "            return self.num_range(int(s[:i]))\n",
    "        except:\n",
    "            return self.num_range(float(s[:i]))\n",
    "        \n",
    "    def num_range(self, num):\n",
    "        if num < -2147483648:\n",
    "            return -2147483648\n",
    "        elif num > 2147483647:\n",
    "            return 2147483647\n",
    "        else:\n",
    "            return num\n",
    "            \n",
    "x = \"     -42.2812\"\n",
    "y = Solution().myAtoi(x)\n",
    "print(y)"
   ]
  },
  {
   "cell_type": "code",
   "execution_count": null,
   "metadata": {},
   "outputs": [],
   "source": []
  },
  {
   "cell_type": "code",
   "execution_count": null,
   "metadata": {},
   "outputs": [],
   "source": []
  }
 ],
 "metadata": {
  "kernelspec": {
   "display_name": "Python 3",
   "language": "python",
   "name": "python3"
  },
  "language_info": {
   "codemirror_mode": {
    "name": "ipython",
    "version": 3
   },
   "file_extension": ".py",
   "mimetype": "text/x-python",
   "name": "python",
   "nbconvert_exporter": "python",
   "pygments_lexer": "ipython3",
   "version": "3.7.4"
  }
 },
 "nbformat": 4,
 "nbformat_minor": 2
}
