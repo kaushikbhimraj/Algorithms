{
 "cells": [
  {
   "cell_type": "raw",
   "metadata": {},
   "source": [
    "\"\"\"\n",
    "Date:     03.29.2020\n",
    "Desc:     Create an algorithm that prints a linked list in reverse order. \n",
    "\"\"\""
   ]
  },
  {
   "cell_type": "code",
   "execution_count": 3,
   "metadata": {},
   "outputs": [
    {
     "name": "stdout",
     "output_type": "stream",
     "text": [
      "11\n",
      "23\n",
      "10\n",
      "4\n",
      "1\n",
      "3\n",
      "2\n",
      "9\n",
      "+\n"
     ]
    }
   ],
   "source": [
    "# Basic Linked List DS Model. \n",
    "class Node:\n",
    "    def __init__(self, val):\n",
    "        self.val = val\n",
    "        self.next = None\n",
    "\n",
    "class LinkedList:\n",
    "    def __init__(self):\n",
    "        self.head = Node('+')\n",
    "    \n",
    "    def insert(self, val):\n",
    "        node = self.head\n",
    "        while node.next:\n",
    "            node = node.next\n",
    "        node.next = Node(val)\n",
    "\n",
    "# Following uses the stack to print values in the reverse order. \n",
    "class reversestack:\n",
    "    def reverseLL(self, node):\n",
    "        if not node:\n",
    "            return\n",
    "        self.reverseLL(node.next)\n",
    "        print(node.val)\n",
    "    \n",
    "# Driver Code\n",
    "arr = [9, 2, 3, 1, 4, 10, 23, 11]\n",
    "a = LinkedList()\n",
    "for val in arr:\n",
    "    a.insert(val)\n",
    "\n",
    "reversestack().reverseLL(a.head)"
   ]
  },
  {
   "cell_type": "code",
   "execution_count": null,
   "metadata": {},
   "outputs": [],
   "source": []
  },
  {
   "cell_type": "code",
   "execution_count": null,
   "metadata": {},
   "outputs": [],
   "source": []
  }
 ],
 "metadata": {
  "kernelspec": {
   "display_name": "Python 3",
   "language": "python",
   "name": "python3"
  },
  "language_info": {
   "codemirror_mode": {
    "name": "ipython",
    "version": 3
   },
   "file_extension": ".py",
   "mimetype": "text/x-python",
   "name": "python",
   "nbconvert_exporter": "python",
   "pygments_lexer": "ipython3",
   "version": "3.7.4"
  }
 },
 "nbformat": 4,
 "nbformat_minor": 2
}
