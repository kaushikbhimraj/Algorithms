{
 "cells": [
  {
   "cell_type": "code",
   "execution_count": null,
   "metadata": {},
   "outputs": [],
   "source": [
    "\n",
    "\"\"\"\n",
    "Date:     03.30.2020\n",
    "Question: 20\n",
    "Roman numerals are represented by seven different symbols I, V, X, L, C, D and M. \n",
    "\n",
    "        Symbol       Value\n",
    "        I             1\n",
    "        V             5\n",
    "        X             10\n",
    "        L             50\n",
    "        C             100\n",
    "        D             500\n",
    "        M             1000\n",
    "        \n",
    "For example, two is written as II in Roman numeral, just two one's added together. \n",
    "Twelve is written as, XII, which is sharply X + II. The number twenty seven is written as XXVII, which is \n",
    "XX + V + II. \n",
    "\n",
    "Roman numerals are usually written largest to smallest from left to right. However, the numercal for four \n",
    "is not IIII. Instead, the number four is written as IV. Because the one is before the five we subtract it\n",
    "making four. The same principle applies to number nine, which is written as IX. There are six instances \n",
    "where subtraction is used:\n",
    "\n",
    "    - I can be placed before V (5) and X (10) to make 4 and 9. \n",
    "    - X can be placed before L (50) and C (100) to make 40 and 90\n",
    "    - C can be placed before D (500) and M (1000) to make 400 and 900. \n",
    "    \n",
    "Given an integer, convert it to a roman numeral, input is guaranteed to be within the range from 1 to 3999. \n",
    "\n",
    "EXAMPLE:\n",
    "    Input:  3\n",
    "    Output: \"III\"\n",
    "    \n",
    "    Input:  4\n",
    "    Output: \"IV\"\n",
    "    \n",
    "    Input:  9\n",
    "    Output: \"IX\"\n",
    "    \n",
    "    Inptut: 58\n",
    "    Output:  \"LVIII\"\n",
    "    \n",
    "    Input:  1994\n",
    "    Output: \"MCMXCIV\"\n",
    "\"\"\""
   ]
  },
  {
   "cell_type": "code",
   "execution_count": 71,
   "metadata": {},
   "outputs": [
    {
     "name": "stdout",
     "output_type": "stream",
     "text": [
      "3 III\n",
      "4 IV\n",
      "9 IX\n",
      "58 LVIII\n",
      "1994 MCMXCIV\n"
     ]
    }
   ],
   "source": [
    "# Strategy is first to figure out the degree of the integer. \n",
    "# Then it will break it down using the largest to \n",
    "class Roman:\n",
    "    def __init__(self):\n",
    "        self.romans = {1:\"I\", \n",
    "                       5:\"V\", \n",
    "                       10:\"X\", \n",
    "                       50:\"L\", \n",
    "                       100:\"C\", \n",
    "                       500:\"D\", \n",
    "                       1000:\"M\"}\n",
    "    \n",
    "    def intToRoman(self, num: int) -> str:\n",
    "        if num < 1 or num > 3999:\n",
    "            return \n",
    "        \n",
    "        times = 1000\n",
    "        romannum = \"\"\n",
    "        while times >= 1:\n",
    "            digit = num//times\n",
    "            if digit < 4:\n",
    "                romannum += digit*self.romans[times]\n",
    "            elif digit == 4:\n",
    "                romannum += self.romans[times] + self.romans[5*times]\n",
    "            elif digit == 5:\n",
    "                romannum += self.romans[times*digit]\n",
    "            elif 5 < digit < 9:\n",
    "                romannum += self.romans[times*5] + (digit-5)*self.romans[times]\n",
    "            elif digit == 9:\n",
    "                romannum += self.romans[times] + self.romans[10*times]\n",
    "            \n",
    "            num = num%times\n",
    "            times = int(times/10)\n",
    "        return romannum\n",
    "\n",
    "print(3, Roman().intToRoman(3))\n",
    "print(4, Roman().intToRoman(4))\n",
    "print(9, Roman().intToRoman(9))\n",
    "print(58, Roman().intToRoman(58))\n",
    "print(1994, Roman().intToRoman(1994))"
   ]
  },
  {
   "cell_type": "code",
   "execution_count": 53,
   "metadata": {},
   "outputs": [
    {
     "data": {
      "text/plain": [
       "9"
      ]
     },
     "execution_count": 53,
     "metadata": {},
     "output_type": "execute_result"
    }
   ],
   "source": [
    "9829//1000"
   ]
  },
  {
   "cell_type": "code",
   "execution_count": 66,
   "metadata": {},
   "outputs": [
    {
     "data": {
      "text/plain": [
       "29"
      ]
     },
     "execution_count": 66,
     "metadata": {},
     "output_type": "execute_result"
    }
   ],
   "source": [
    "9829%100"
   ]
  }
 ],
 "metadata": {
  "kernelspec": {
   "display_name": "Python 3",
   "language": "python",
   "name": "python3"
  },
  "language_info": {
   "codemirror_mode": {
    "name": "ipython",
    "version": 3
   },
   "file_extension": ".py",
   "mimetype": "text/x-python",
   "name": "python",
   "nbconvert_exporter": "python",
   "pygments_lexer": "ipython3",
   "version": "3.7.4"
  }
 },
 "nbformat": 4,
 "nbformat_minor": 2
}
