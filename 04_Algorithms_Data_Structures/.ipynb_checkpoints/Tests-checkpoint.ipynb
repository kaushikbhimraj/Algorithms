{
 "cells": [
  {
   "cell_type": "code",
   "execution_count": 27,
   "metadata": {},
   "outputs": [
    {
     "name": "stdout",
     "output_type": "stream",
     "text": [
      "[9, 8, 4, 5, 1, 3, 2]\n",
      "None\n"
     ]
    }
   ],
   "source": [
    "class Heapsort:\n",
    "    def main(self, arr):\n",
    "        if len(arr) <=  1:\n",
    "            return arr\n",
    "        heap = self.create_heap(arr)\n",
    "        print(heap)\n",
    "        return self.heap_sort(heap)\n",
    "    \n",
    "    def create_heap(self, arr):\n",
    "        heap = []\n",
    "        L = len(arr)\n",
    "        for i in range(L):\n",
    "            heap.append(arr.pop(0))\n",
    "            j = len(heap) - 1\n",
    "            while j > 0:\n",
    "                parent = j//2\n",
    "                if heap[parent] < heap[j]:\n",
    "                    self.swap(heap, j, parent)\n",
    "                    j = parent\n",
    "                else:\n",
    "                    j = 0\n",
    "        return heap\n",
    "    \n",
    "    def heap_sort(self, arr):\n",
    "        \n",
    "        sort = []\n",
    "        for i in range(len(arr)):\n",
    "          \n",
    "            # Pop first and switch last element to first\n",
    "            if len(arr) > 1:\n",
    "                sort.append(arr.pop(0))\n",
    "                arr = [arr.pop(-1)] + arr\n",
    "            else:\n",
    "                sort.append(arr.pop(0))\n",
    "            \n",
    "            # Re-sort the heap again to get the maximum element on the top. \n",
    "            n = 1\n",
    "            while 2*n < len(arr):\n",
    "                \n",
    "                L = (2*n) - 1\n",
    "                R = (2*n)\n",
    "                \n",
    "                if arr[n-1] < arr[L] and arr[n-1] < arr[R]:\n",
    "                    if arr[L] < arr[R]:\n",
    "                        self.swap(arr, n-1, R)\n",
    "                        n = R\n",
    "                    else:\n",
    "                        self.swap(arr, n-1, L)\n",
    "                        n = L\n",
    "                elif arr[L] < arr[n-1] < arr[R]:\n",
    "                    self.swap(arr, n-1, R)\n",
    "                    n = R\n",
    "                elif arr[R] < arr[n-1] < arr[L]:\n",
    "                    self.swap(arr, n-1, L)\n",
    "                    n = L\n",
    "                else:\n",
    "                    n += 1\n",
    "        \n",
    "        # x = len(sort)-1\n",
    "        # y = len(sort)-2\n",
    "        # if sort[x] > sort[y]:\n",
    "        #     print(sort[x], sort[y])\n",
    "        #     self.swap(arr, x, y)\n",
    "        return sort\n",
    "    \n",
    "    def swap(self, arr, i, j):\n",
    "        arr[i], arr[j] = arr[j], arr[i]\n",
    "\n",
    "a = [9, 2, 1, 5, 3, 4, 8]\n",
    "print(Heapsort().main(a))\n",
    "        "
   ]
  },
  {
   "cell_type": "code",
   "execution_count": null,
   "metadata": {},
   "outputs": [],
   "source": []
  },
  {
   "cell_type": "code",
   "execution_count": null,
   "metadata": {},
   "outputs": [],
   "source": []
  }
 ],
 "metadata": {
  "kernelspec": {
   "display_name": "Python 3",
   "language": "python",
   "name": "python3"
  },
  "language_info": {
   "codemirror_mode": {
    "name": "ipython",
    "version": 3
   },
   "file_extension": ".py",
   "mimetype": "text/x-python",
   "name": "python",
   "nbconvert_exporter": "python",
   "pygments_lexer": "ipython3",
   "version": "3.7.4"
  }
 },
 "nbformat": 4,
 "nbformat_minor": 2
}
