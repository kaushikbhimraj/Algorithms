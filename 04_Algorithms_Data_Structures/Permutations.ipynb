{
 "cells": [
  {
   "cell_type": "code",
   "execution_count": 1,
   "metadata": {},
   "outputs": [
    {
     "ename": "SyntaxError",
     "evalue": "unexpected EOF while parsing (<ipython-input-1-6b88757447d6>, line 19)",
     "output_type": "error",
     "traceback": [
      "\u001b[1;36m  File \u001b[1;32m\"<ipython-input-1-6b88757447d6>\"\u001b[1;36m, line \u001b[1;32m19\u001b[0m\n\u001b[1;33m    \u001b[0m\n\u001b[1;37m    ^\u001b[0m\n\u001b[1;31mSyntaxError\u001b[0m\u001b[1;31m:\u001b[0m unexpected EOF while parsing\n"
     ]
    }
   ],
   "source": [
    "\"\"\"\n",
    "Name:     Permutation\n",
    "Question: 46\n",
    "Given a collection of distinct integers, return all possible permutations. \n",
    "\n",
    "Input:  [1,2,3]\n",
    "Output: [\n",
    "         [1,2,3],\n",
    "         [1,3,2],\n",
    "         [2,1,3],\n",
    "         [2,3,1],\n",
    "         [3,1,2],\n",
    "         [3,2,1]\n",
    "        ]\n",
    "\"\"\"\n",
    "\n",
    "class Permutations:\n",
    "    def permute(self, num: List[int]) -> List[List[int]]:\n",
    "        "
   ]
  }
 ],
 "metadata": {
  "kernelspec": {
   "display_name": "Python 3",
   "language": "python",
   "name": "python3"
  },
  "language_info": {
   "codemirror_mode": {
    "name": "ipython",
    "version": 3
   },
   "file_extension": ".py",
   "mimetype": "text/x-python",
   "name": "python",
   "nbconvert_exporter": "python",
   "pygments_lexer": "ipython3",
   "version": "3.7.4"
  }
 },
 "nbformat": 4,
 "nbformat_minor": 2
}
