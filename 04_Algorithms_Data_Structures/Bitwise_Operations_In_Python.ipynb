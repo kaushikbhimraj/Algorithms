{
 "cells": [
  {
   "cell_type": "code",
   "execution_count": null,
   "metadata": {},
   "outputs": [],
   "source": [
    "\"\"\"\n",
    "Date Created: 03.28.2020\n",
    "Created By:   Kaushik Bhimraj\n",
    "Desc:         Following is a consolidation of all bitwise operations and techniques that can be utilized in the Python. \n",
    "\"\"\""
   ]
  },
  {
   "cell_type": "code",
   "execution_count": 42,
   "metadata": {},
   "outputs": [
    {
     "name": "stdout",
     "output_type": "stream",
     "text": [
      "INITIAL VALUES:\n",
      "a = 20      [binary:0b10100]\n",
      "b = 14      [binary:0b1110]\n",
      "\n",
      "\n",
      "RIGHT SHIFT:\n",
      "b = 14 >> 2 [binary:  0b11]\n",
      "b = 3\n",
      "\n",
      "\n",
      "LEFT SHIFT:\n",
      "b = 14 << 2 [binary:  0b111000]\n",
      "b = 56\n",
      "\n",
      "\n",
      "AND OPERATOR:\n",
      "a & b : 4   [bianry:0b100]\n",
      "\n",
      "\n",
      "OR OPERATOR\n",
      "a | b : 30  [bianry:0b11110]\n",
      "\n",
      "\n",
      "XOR OPERATOR\n",
      "a ^ b : 26  [bianry:0b11010]\n",
      "\n",
      "\n"
     ]
    }
   ],
   "source": [
    "# BASIC OPERATORS\n",
    "\n",
    "a = 20                      # 60 = 0011 1100\n",
    "b = 14                      # 13 = 0000 1101\n",
    "print(\"INITIAL VALUES:\")\n",
    "print(\"a = \" + str(a) + \"      [binary:\"+str(bin(a))+\"]\")\n",
    "print(\"b = \" + str(b) + \"      [binary:\"+str(bin(b))+\"]\")\n",
    "print(\"\\n\")\n",
    "\n",
    "\n",
    "\"\"\" \n",
    "RIGHT SHIFT: Shifts binary to the right by n places and \n",
    "adds n zeros to the beginning. \n",
    "\"\"\"\n",
    "c = b>>2\n",
    "print(\"RIGHT SHIFT:\")\n",
    "print(\"b = \" + str(b) + \" >> 2 [binary:  \"+str(bin(c))+\"]\")\n",
    "print(\"b = \" + str(c))\n",
    "print(\"\\n\")\n",
    "\n",
    "\n",
    "\"\"\"\n",
    "LEFT SHIFT: Shift binary to the left by n places and  \n",
    "adds n zeros to the end.\n",
    "\"\"\"\n",
    "print(\"LEFT SHIFT:\")\n",
    "c = b<<2\n",
    "print(\"b = \" + str(b) + \" << 2 [binary:  \"+str(bin(c))+\"]\")\n",
    "print(\"b = \" + str(c))\n",
    "print(\"\\n\")\n",
    "\n",
    "\n",
    "\"\"\"\n",
    "AND OPERATOR: Gives a 1 only when both values are 1.\n",
    "        x  y  z\n",
    "        -------\n",
    "        0  0  0\n",
    "        0  1  0\n",
    "        1  0  0\n",
    "        1  1  1\n",
    "\"\"\" \n",
    "print(\"AND OPERATOR:\")\n",
    "c = a & b\n",
    "print(\"a & b : \" + str(c) + \"   [bianry:\" + str(bin(c)) + \"]\")\n",
    "print(\"\\n\")\n",
    "\n",
    "\n",
    "\"\"\"\n",
    "OR OPERATOR: Gives a 1 if atleast one of the values are 1. \n",
    "        x  y  z\n",
    "        -------\n",
    "        0  0  0\n",
    "        0  1  1\n",
    "        1  0  1\n",
    "        1  1  1\n",
    "\"\"\"\n",
    "print(\"OR OPERATOR\")\n",
    "c = a | b\n",
    "print(\"a | b : \" + str(c) + \"  [bianry:\" + str(bin(c)) + \"]\")\n",
    "print(\"\\n\")\n",
    "\n",
    "\"\"\"\n",
    "XOR OPERATOR: Gives a 1 if both values are not same. \n",
    "        x  y  z\n",
    "        -------\n",
    "        0  0  0\n",
    "        0  1  1\n",
    "        1  0  1\n",
    "        1  1  0\n",
    "\"\"\"\n",
    "print(\"XOR OPERATOR\")\n",
    "c = a ^ b\n",
    "print(\"a ^ b : \" + str(c) + \"  [bianry:\" + str(bin(c)) + \"]\")\n",
    "print(\"\\n\")\n"
   ]
  },
  {
   "cell_type": "code",
   "execution_count": null,
   "metadata": {},
   "outputs": [],
   "source": [
    "# TECHNIQUES\n",
    "# This section will explore the potential of bitwise. (Why are they used and what is the benefit?)\n"
   ]
  },
  {
   "cell_type": "code",
   "execution_count": 43,
   "metadata": {},
   "outputs": [
    {
     "ename": "TypeError",
     "evalue": "unsupported operand type(s) for -: 'str' and 'str'",
     "output_type": "error",
     "traceback": [
      "\u001b[1;31m---------------------------------------------------------------------------\u001b[0m",
      "\u001b[1;31mTypeError\u001b[0m                                 Traceback (most recent call last)",
      "\u001b[1;32m<ipython-input-43-a50eac4422cf>\u001b[0m in \u001b[0;36m<module>\u001b[1;34m\u001b[0m\n\u001b[0;32m      1\u001b[0m \u001b[0ma\u001b[0m \u001b[1;33m=\u001b[0m \u001b[1;34m'a'\u001b[0m\u001b[1;33m\u001b[0m\u001b[1;33m\u001b[0m\u001b[0m\n\u001b[1;32m----> 2\u001b[1;33m \u001b[0mprint\u001b[0m\u001b[1;33m(\u001b[0m\u001b[1;34m'a'\u001b[0m\u001b[1;33m-\u001b[0m\u001b[1;34m'0'\u001b[0m\u001b[1;33m)\u001b[0m\u001b[1;33m\u001b[0m\u001b[1;33m\u001b[0m\u001b[0m\n\u001b[0m",
      "\u001b[1;31mTypeError\u001b[0m: unsupported operand type(s) for -: 'str' and 'str'"
     ]
    }
   ],
   "source": [
    "a = 'a'\n",
    "print('a'-'0')"
   ]
  },
  {
   "cell_type": "code",
   "execution_count": null,
   "metadata": {},
   "outputs": [],
   "source": []
  }
 ],
 "metadata": {
  "kernelspec": {
   "display_name": "Python 3",
   "language": "python",
   "name": "python3"
  },
  "language_info": {
   "codemirror_mode": {
    "name": "ipython",
    "version": 3
   },
   "file_extension": ".py",
   "mimetype": "text/x-python",
   "name": "python",
   "nbconvert_exporter": "python",
   "pygments_lexer": "ipython3",
   "version": "3.7.4"
  }
 },
 "nbformat": 4,
 "nbformat_minor": 2
}
